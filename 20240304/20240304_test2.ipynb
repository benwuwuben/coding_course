{
  "nbformat": 4,
  "nbformat_minor": 0,
  "metadata": {
    "colab": {
      "provenance": []
    },
    "kernelspec": {
      "name": "python3",
      "display_name": "Python 3"
    },
    "language_info": {
      "name": "python"
    }
  },
  "cells": [
    {
      "cell_type": "code",
      "execution_count": 1,
      "metadata": {
        "colab": {
          "base_uri": "https://localhost:8080/"
        },
        "id": "0nYrN24aPM60",
        "outputId": "603c4154-7196-41c9-a37a-0bebd2dd9460"
      },
      "outputs": [
        {
          "output_type": "stream",
          "name": "stdout",
          "text": [
            "ans= 495\n"
          ]
        }
      ],
      "source": [
        "x = 2\n",
        "y = 1\n",
        "a = 2*x+y\n",
        "b = 100-y\n",
        "ans = a*b\n",
        "print('ans=',ans)"
      ]
    },
    {
      "cell_type": "code",
      "source": [
        "y = 4\n",
        "a = 2*y+1\n",
        "ans = 100/a\n",
        "print('ans=',ans)"
      ],
      "metadata": {
        "colab": {
          "base_uri": "https://localhost:8080/"
        },
        "id": "fnDBT-hkde1f",
        "outputId": "ee50dfac-7929-4cbe-be26-1d56bb848fad"
      },
      "execution_count": 3,
      "outputs": [
        {
          "output_type": "stream",
          "name": "stdout",
          "text": [
            "ans= 11.11111111111111\n"
          ]
        }
      ]
    }
  ]
}
