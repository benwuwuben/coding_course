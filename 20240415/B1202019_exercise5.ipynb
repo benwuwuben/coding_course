{
  "nbformat": 4,
  "nbformat_minor": 0,
  "metadata": {
    "colab": {
      "provenance": [],
      "authorship_tag": "ABX9TyOuCPFhzcQR5ubgrqND2kei",
      "include_colab_link": true
    },
    "kernelspec": {
      "name": "python3",
      "display_name": "Python 3"
    },
    "language_info": {
      "name": "python"
    }
  },
  "cells": [
    {
      "cell_type": "markdown",
      "metadata": {
        "id": "view-in-github",
        "colab_type": "text"
      },
      "source": [
        "<a href=\"https://colab.research.google.com/github/benwuwuben/coding_course/blob/main/20240415/B1202019_exercise5.ipynb\" target=\"_parent\"><img src=\"https://colab.research.google.com/assets/colab-badge.svg\" alt=\"Open In Colab\"/></a>"
      ]
    },
    {
      "cell_type": "code",
      "source": [
        "def tree(star, upper_level, down_width, down_level):\n",
        "  space = 2*upper_level+1\n",
        "  for i in range(1,upper_level+1):\n",
        "    ans = (2*i-1)*star\n",
        "    print(f'{ans:^{space}s}')\n",
        "\n",
        "  for i in range(1,down_level + 1):\n",
        "    ans = down_width*star\n",
        "    print(f'{ans:^{space}s}')\n",
        "tree('*',9,3,5)"
      ],
      "metadata": {
        "colab": {
          "base_uri": "https://localhost:8080/"
        },
        "id": "8e0pHNR8iDCo",
        "outputId": "c43e35f6-7f6f-4275-b42c-1b7724b49a83"
      },
      "execution_count": 52,
      "outputs": [
        {
          "output_type": "stream",
          "name": "stdout",
          "text": [
            "         *         \n",
            "        ***        \n",
            "       *****       \n",
            "      *******      \n",
            "     *********     \n",
            "    ***********    \n",
            "   *************   \n",
            "  ***************  \n",
            " ***************** \n",
            "        ***        \n",
            "        ***        \n",
            "        ***        \n",
            "        ***        \n",
            "        ***        \n"
          ]
        }
      ]
    },
    {
      "cell_type": "code",
      "source": [
        "def mutiple_table(num):\n",
        "  num_length = len(str(num))\n",
        "  ans_length = len(str(num*num))\n",
        "  for i in range(1,num+1):\n",
        "    for j in range(1,num+1):\n",
        "      ans = i*j\n",
        "      print(f'{i:<{num_length}d} x {j:<{num_length}d} = {ans:<{ans_length}d}', end='  ')\n",
        "    print()\n",
        "mutiple_table(9)"
      ],
      "metadata": {
        "colab": {
          "base_uri": "https://localhost:8080/"
        },
        "id": "whcZOtSapUiL",
        "outputId": "4db1eedd-24d4-4152-f78a-931d4a152d93"
      },
      "execution_count": 53,
      "outputs": [
        {
          "output_type": "stream",
          "name": "stdout",
          "text": [
            "1 x 1 = 1   1 x 2 = 2   1 x 3 = 3   1 x 4 = 4   1 x 5 = 5   1 x 6 = 6   1 x 7 = 7   1 x 8 = 8   1 x 9 = 9   \n",
            "2 x 1 = 2   2 x 2 = 4   2 x 3 = 6   2 x 4 = 8   2 x 5 = 10  2 x 6 = 12  2 x 7 = 14  2 x 8 = 16  2 x 9 = 18  \n",
            "3 x 1 = 3   3 x 2 = 6   3 x 3 = 9   3 x 4 = 12  3 x 5 = 15  3 x 6 = 18  3 x 7 = 21  3 x 8 = 24  3 x 9 = 27  \n",
            "4 x 1 = 4   4 x 2 = 8   4 x 3 = 12  4 x 4 = 16  4 x 5 = 20  4 x 6 = 24  4 x 7 = 28  4 x 8 = 32  4 x 9 = 36  \n",
            "5 x 1 = 5   5 x 2 = 10  5 x 3 = 15  5 x 4 = 20  5 x 5 = 25  5 x 6 = 30  5 x 7 = 35  5 x 8 = 40  5 x 9 = 45  \n",
            "6 x 1 = 6   6 x 2 = 12  6 x 3 = 18  6 x 4 = 24  6 x 5 = 30  6 x 6 = 36  6 x 7 = 42  6 x 8 = 48  6 x 9 = 54  \n",
            "7 x 1 = 7   7 x 2 = 14  7 x 3 = 21  7 x 4 = 28  7 x 5 = 35  7 x 6 = 42  7 x 7 = 49  7 x 8 = 56  7 x 9 = 63  \n",
            "8 x 1 = 8   8 x 2 = 16  8 x 3 = 24  8 x 4 = 32  8 x 5 = 40  8 x 6 = 48  8 x 7 = 56  8 x 8 = 64  8 x 9 = 72  \n",
            "9 x 1 = 9   9 x 2 = 18  9 x 3 = 27  9 x 4 = 36  9 x 5 = 45  9 x 6 = 54  9 x 7 = 63  9 x 8 = 72  9 x 9 = 81  \n"
          ]
        }
      ]
    }
  ]
}