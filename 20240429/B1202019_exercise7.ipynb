{
  "nbformat": 4,
  "nbformat_minor": 0,
  "metadata": {
    "colab": {
      "provenance": [],
      "authorship_tag": "ABX9TyM4ibls35SgsT7zG5oF6U3x",
      "include_colab_link": true
    },
    "kernelspec": {
      "name": "python3",
      "display_name": "Python 3"
    },
    "language_info": {
      "name": "python"
    }
  },
  "cells": [
    {
      "cell_type": "markdown",
      "metadata": {
        "id": "view-in-github",
        "colab_type": "text"
      },
      "source": [
        "<a href=\"https://colab.research.google.com/github/benwuwuben/coding_course/blob/main/20240429/B1202019_exercise7.ipynb\" target=\"_parent\"><img src=\"https://colab.research.google.com/assets/colab-badge.svg\" alt=\"Open In Colab\"/></a>"
      ]
    },
    {
      "cell_type": "code",
      "source": [
        "def tree(star, upper_level, down_width, down_level):\n",
        "\n",
        "  for i in range(1,upper_level+1):\n",
        "    star_num = star*(2*i-1)\n",
        "    space = ' '*(upper_level+1-i)\n",
        "    print(f'{space}{star_num}{space}')\n",
        "\n",
        "  for i in range(1,down_level+1):\n",
        "    ans = down_width*star\n",
        "    space_num = int(((upper_level*2+1)-down_width)/2)\n",
        "    space = ' '* space_num\n",
        "    print(f'{space}{ans}{space}')\n",
        "\n",
        "height = int(input('請輸入聖誕樹層數:'))\n",
        "tree('*',height,3,5)"
      ],
      "metadata": {
        "colab": {
          "base_uri": "https://localhost:8080/"
        },
        "id": "whcZOtSapUiL",
        "outputId": "4c6c597c-f881-4748-a67c-0d8073a8266e"
      },
      "execution_count": 35,
      "outputs": [
        {
          "output_type": "stream",
          "name": "stdout",
          "text": [
            "請輸入聖誕樹層數:9\n",
            "         *         \n",
            "        ***        \n",
            "       *****       \n",
            "      *******      \n",
            "     *********     \n",
            "    ***********    \n",
            "   *************   \n",
            "  ***************  \n",
            " ***************** \n",
            "        ***        \n",
            "        ***        \n",
            "        ***        \n",
            "        ***        \n",
            "        ***        \n"
          ]
        }
      ]
    },
    {
      "cell_type": "code",
      "source": [
        "height = input('please input your height(cm):')\n",
        "weight = input('please input your weight(kg):')\n",
        "\n",
        "def BMI(height,weight):\n",
        "  BMI = weight/height**2\n",
        "  if BMI < 18.5:\n",
        "    ans = 'too thin'\n",
        "  elif BMI < 24 and BMI >= 18.5:\n",
        "    ans = 'moderate'\n",
        "  elif BMI >= 24 and BMI < 27:\n",
        "    ans = 'too fat'\n",
        "  else:\n",
        "    ans = 'obesity'\n",
        "  return BMI, ans\n",
        "\n",
        "try:\n",
        "  height = float(height)\n",
        "  weight = float(weight)\n",
        "  height /= 100\n",
        "  BMI, ans = BMI(height,weight)\n",
        "  print(f'BMI:{BMI}')\n",
        "  print(f'體位:{ans}')\n",
        "except:\n",
        "  print('輸入內容錯誤')\n",
        "\n",
        "\n",
        ""
      ],
      "metadata": {
        "colab": {
          "base_uri": "https://localhost:8080/"
        },
        "id": "AVK5vfWLtLxy",
        "outputId": "7bd8642c-0d28-4e5a-9bda-04a3d1f8b5e3"
      },
      "execution_count": 6,
      "outputs": [
        {
          "output_type": "stream",
          "name": "stdout",
          "text": [
            "please input your height(cm):180\n",
            "please input your weight(kg):70\n",
            "BMI:21.604938271604937\n",
            "體位:moderate\n"
          ]
        }
      ]
    }
  ]
}