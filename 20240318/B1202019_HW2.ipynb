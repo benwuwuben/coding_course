{
  "nbformat": 4,
  "nbformat_minor": 0,
  "metadata": {
    "colab": {
      "provenance": [],
      "authorship_tag": "ABX9TyPnpVx/Xg0CK3skcAh9QRLT",
      "include_colab_link": true
    },
    "kernelspec": {
      "name": "python3",
      "display_name": "Python 3"
    },
    "language_info": {
      "name": "python"
    }
  },
  "cells": [
    {
      "cell_type": "markdown",
      "metadata": {
        "id": "view-in-github",
        "colab_type": "text"
      },
      "source": [
        "<a href=\"https://colab.research.google.com/github/benwuwuben/coding_course/blob/main/20240318/B1202019_HW2.ipynb\" target=\"_parent\"><img src=\"https://colab.research.google.com/assets/colab-badge.svg\" alt=\"Open In Colab\"/></a>"
      ]
    },
    {
      "cell_type": "code",
      "execution_count": 55,
      "metadata": {
        "colab": {
          "base_uri": "https://localhost:8080/"
        },
        "id": "JxIeKJYilKrn",
        "outputId": "bde6cedd-e826-42d9-c5fe-cc879a916a75"
      },
      "outputs": [
        {
          "output_type": "stream",
          "name": "stdout",
          "text": [
            "A\n"
          ]
        },
        {
          "output_type": "execute_result",
          "data": {
            "text/plain": [
              "['K', 'H', 'U']"
            ]
          },
          "metadata": {},
          "execution_count": 55
        }
      ],
      "source": [
        "a = 'C,B,A'\n",
        "b = ['F','G','H']\n",
        "a = a.split(',')\n",
        "c = a + b\n",
        "c[0] = 'K'\n",
        "ans = c.pop(2)\n",
        "print(ans)\n",
        "del c[1:4]\n",
        "c.append('U')\n",
        "c"
      ]
    },
    {
      "cell_type": "code",
      "source": [
        "num = input('請輸入一八位數字:')\n",
        "flag = 1\n",
        "while flag == 1:\n",
        "  if len(num)==8:\n",
        "    flag = 0\n",
        "    print(f'第五位數為{num[4]}')\n",
        "  else:\n",
        "    num = input('請重新輸入:')"
      ],
      "metadata": {
        "colab": {
          "base_uri": "https://localhost:8080/"
        },
        "id": "vBHrWymSeIxp",
        "outputId": "9bcecd40-2543-48d9-aeb8-87303c753d2f"
      },
      "execution_count": 38,
      "outputs": [
        {
          "output_type": "stream",
          "name": "stdout",
          "text": [
            "請輸入一八位數字:1234\n",
            "請重新輸入:1234\n",
            "請重新輸入:12334567\n",
            "第五位數為4\n"
          ]
        }
      ]
    },
    {
      "cell_type": "code",
      "source": [
        "ID = 'My ID is B1202019'\n",
        "ID_split = ID.split()\n",
        "print(f'此字串有{len(ID_split)}個字')\n",
        "print(f'此ID有{len(ID_split[-1])}個元素')"
      ],
      "metadata": {
        "colab": {
          "base_uri": "https://localhost:8080/"
        },
        "id": "x6STjQceefxK",
        "outputId": "9f0a6e25-cc73-4b79-9bf5-d6f77d44ff0e"
      },
      "execution_count": 58,
      "outputs": [
        {
          "output_type": "stream",
          "name": "stdout",
          "text": [
            "此字串有4個字\n",
            "此ID有8個元素\n"
          ]
        }
      ]
    },
    {
      "cell_type": "code",
      "source": [
        "word = \"I'm a student\"\n",
        "ans = word.split('m')\n",
        "print(f'{word[len(ans[0])]}，且m在第{len(ans[0])+1}個元素')"
      ],
      "metadata": {
        "colab": {
          "base_uri": "https://localhost:8080/"
        },
        "id": "aAeNukHwevhh",
        "outputId": "5eaaefd2-ca58-4f75-c14a-947e5155f70f"
      },
      "execution_count": 60,
      "outputs": [
        {
          "output_type": "stream",
          "name": "stdout",
          "text": [
            "m，且m在第3個元素\n"
          ]
        }
      ]
    }
  ]
}