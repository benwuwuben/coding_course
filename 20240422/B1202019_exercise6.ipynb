{
  "nbformat": 4,
  "nbformat_minor": 0,
  "metadata": {
    "colab": {
      "provenance": [],
      "authorship_tag": "ABX9TyOVn35iTy1Q0F9/O/nm8amu",
      "include_colab_link": true
    },
    "kernelspec": {
      "name": "python3",
      "display_name": "Python 3"
    },
    "language_info": {
      "name": "python"
    }
  },
  "cells": [
    {
      "cell_type": "markdown",
      "metadata": {
        "id": "view-in-github",
        "colab_type": "text"
      },
      "source": [
        "<a href=\"https://colab.research.google.com/github/benwuwuben/coding_course/blob/main/20240422/B1202019_exercise6.ipynb\" target=\"_parent\"><img src=\"https://colab.research.google.com/assets/colab-badge.svg\" alt=\"Open In Colab\"/></a>"
      ]
    },
    {
      "cell_type": "code",
      "source": [
        "def mutiple_table(num):\n",
        "  num_length = len(str(num))\n",
        "  ans_length = len(str(num*num))\n",
        "  i = 1\n",
        "  while i < num+1:\n",
        "    j = 1\n",
        "    while j < num+1:\n",
        "      ans = j*i\n",
        "      print(f'{j:<{num_length}d} x {i:<{num_length}d} = {ans:<{ans_length}d}', end='  ')\n",
        "      j = j + 1\n",
        "    print()\n",
        "    i = i + 1\n",
        "mutiple_table(9)"
      ],
      "metadata": {
        "colab": {
          "base_uri": "https://localhost:8080/"
        },
        "id": "whcZOtSapUiL",
        "outputId": "33efc1f5-d956-4d01-d962-28d6fec090b2"
      },
      "execution_count": null,
      "outputs": [
        {
          "output_type": "stream",
          "name": "stdout",
          "text": [
            "1 x 1 = 1   2 x 1 = 2   3 x 1 = 3   4 x 1 = 4   5 x 1 = 5   6 x 1 = 6   7 x 1 = 7   8 x 1 = 8   9 x 1 = 9   \n",
            "1 x 2 = 2   2 x 2 = 4   3 x 2 = 6   4 x 2 = 8   5 x 2 = 10  6 x 2 = 12  7 x 2 = 14  8 x 2 = 16  9 x 2 = 18  \n",
            "1 x 3 = 3   2 x 3 = 6   3 x 3 = 9   4 x 3 = 12  5 x 3 = 15  6 x 3 = 18  7 x 3 = 21  8 x 3 = 24  9 x 3 = 27  \n",
            "1 x 4 = 4   2 x 4 = 8   3 x 4 = 12  4 x 4 = 16  5 x 4 = 20  6 x 4 = 24  7 x 4 = 28  8 x 4 = 32  9 x 4 = 36  \n",
            "1 x 5 = 5   2 x 5 = 10  3 x 5 = 15  4 x 5 = 20  5 x 5 = 25  6 x 5 = 30  7 x 5 = 35  8 x 5 = 40  9 x 5 = 45  \n",
            "1 x 6 = 6   2 x 6 = 12  3 x 6 = 18  4 x 6 = 24  5 x 6 = 30  6 x 6 = 36  7 x 6 = 42  8 x 6 = 48  9 x 6 = 54  \n",
            "1 x 7 = 7   2 x 7 = 14  3 x 7 = 21  4 x 7 = 28  5 x 7 = 35  6 x 7 = 42  7 x 7 = 49  8 x 7 = 56  9 x 7 = 63  \n",
            "1 x 8 = 8   2 x 8 = 16  3 x 8 = 24  4 x 8 = 32  5 x 8 = 40  6 x 8 = 48  7 x 8 = 56  8 x 8 = 64  9 x 8 = 72  \n",
            "1 x 9 = 9   2 x 9 = 18  3 x 9 = 27  4 x 9 = 36  5 x 9 = 45  6 x 9 = 54  7 x 9 = 63  8 x 9 = 72  9 x 9 = 81  \n"
          ]
        }
      ]
    },
    {
      "cell_type": "code",
      "source": [
        "def str_list_to_int_list(str_list):\n",
        "  int_list = []\n",
        "  for i in str_list:\n",
        "    i = int(i)\n",
        "    int_list.append(i)\n",
        "  return int_list\n",
        "\n",
        "def int_list_to_str(int_list):\n",
        "  string = str(int_list[0])\n",
        "  for i in range(1,len(int_list)):\n",
        "    string = string + str(int_list[i])\n",
        "  return string"
      ],
      "metadata": {
        "id": "13CJddxVcO0X"
      },
      "execution_count": 82,
      "outputs": []
    },
    {
      "cell_type": "code",
      "source": [
        "def all_num_and_no_repeat(n, flag_num=False, num_list = num_list):\n",
        "  while flag_num == False:\n",
        "    count_repeat = 0\n",
        "    for i in n:\n",
        "      if i not in num_list:\n",
        "        n = input('輸入並非數字，請輸入四個數字(不重複):')\n",
        "        break\n",
        "      else:\n",
        "        break\n",
        "    int_n = str_list_to_int_list(n)\n",
        "    for i in int_n:\n",
        "      count_repeat += int_n.count(i)\n",
        "    if count_repeat != len(n):\n",
        "      n = input('輸入重複數字，請輸入四個數字(不重複):')\n",
        "    else:\n",
        "      flag_num = True\n",
        "      n = int_list_to_str(n)\n",
        "      return n\n",
        "      break"
      ],
      "metadata": {
        "id": "nNz3vGccfTIo"
      },
      "execution_count": 83,
      "outputs": []
    },
    {
      "cell_type": "code",
      "source": [
        "import random as rd\n",
        "num = rd.sample(range(1,10),4)\n",
        "print(f'答案:{num}')\n",
        "count = 0\n",
        "flag = True\n",
        "\n",
        "num_list = []\n",
        "for i in range(1,10):\n",
        "  i = str(i)\n",
        "  num_list.append(i)\n",
        "\n",
        "while flag == True:\n",
        "  A = 0\n",
        "  B = 0\n",
        "  n = input('請輸入四個數字(不重複):')\n",
        "  flag_num = False\n",
        "\n",
        "  n = all_num_and_no_repeat(n = n,num_list = num_list)\n",
        "\n",
        "  #確認長度為4\n",
        "  while len(n) != len(num):\n",
        "    if len(n) > len(num):\n",
        "      n = input('輸入數字過多，請輸入四個數字(不重複):')\n",
        "      n = all_num_and_no_repeat(n = n,num_list = num_list)\n",
        "    elif len(n) < len(num):\n",
        "      n = input('輸入數字過少，請輸入四個數字(不重複):')\n",
        "      n = all_num_and_no_repeat(n = n,num_list = num_list)\n",
        "\n",
        "  #1A1B遊戲規則運算\n",
        "  count = count+1\n",
        "  for i in n:\n",
        "    if int(i) in num:\n",
        "      if int(i) == int(num[n.index(str(i))]):\n",
        "        A = A + 1\n",
        "      else:\n",
        "        B = B + 1\n",
        "  if A == 4:\n",
        "    flag = False\n",
        "    print(f'{n}:{A}A{B}B')\n",
        "    print(f'答對了!總共猜{count}次')\n",
        "  else:\n",
        "    print(f'{n}:{A}A{B}B')"
      ],
      "metadata": {
        "colab": {
          "base_uri": "https://localhost:8080/"
        },
        "id": "Nr6Bvz_km7xe",
        "outputId": "f1170cc5-5acf-4b9d-d61b-0d76154804db"
      },
      "execution_count": 91,
      "outputs": [
        {
          "output_type": "stream",
          "name": "stdout",
          "text": [
            "答案:[3, 9, 1, 2]\n",
            "請輸入四個數字(不重複):abcd\n",
            "輸入並非數字，請輸入四個數字(不重複):12345\n",
            "輸入數字過多，請輸入四個數字(不重複):123\n",
            "輸入數字過少，請輸入四個數字(不重複):1155\n",
            "輸入重複數字，請輸入四個數字(不重複):8444\n",
            "輸入重複數字，請輸入四個數字(不重複):1234\n",
            "1234:0A3B\n",
            "請輸入四個數字(不重複):1238\n",
            "1238:0A3B\n",
            "請輸入四個數字(不重複):1237\n",
            "1237:0A3B\n",
            "請輸入四個數字(不重複):1239\n",
            "1239:0A4B\n",
            "請輸入四個數字(不重複):2193\n",
            "2193:0A4B\n",
            "請輸入四個數字(不重複):3912\n",
            "3912:4A0B\n",
            "答對了!總共猜6次\n"
          ]
        }
      ]
    }
  ]
}