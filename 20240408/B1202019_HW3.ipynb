{
  "nbformat": 4,
  "nbformat_minor": 0,
  "metadata": {
    "colab": {
      "provenance": [],
      "authorship_tag": "ABX9TyO1vSNeIHLYDoPMm6V4SLmf",
      "include_colab_link": true
    },
    "kernelspec": {
      "name": "python3",
      "display_name": "Python 3"
    },
    "language_info": {
      "name": "python"
    }
  },
  "cells": [
    {
      "cell_type": "markdown",
      "metadata": {
        "id": "view-in-github",
        "colab_type": "text"
      },
      "source": [
        "<a href=\"https://colab.research.google.com/github/benwuwuben/coding_course/blob/main/20240408/B1202019_HW3.ipynb\" target=\"_parent\"><img src=\"https://colab.research.google.com/assets/colab-badge.svg\" alt=\"Open In Colab\"/></a>"
      ]
    },
    {
      "cell_type": "code",
      "source": [
        "year = int(input('請輸入年份'))\n",
        "if year <= 1582:\n",
        "  if year%4 == 0:\n",
        "    print(f'{year}年是閏年')\n",
        "  else:\n",
        "    print(f'{year}年是平年')\n",
        "else:\n",
        "  if year%4 == 0:\n",
        "    if year % 100 == 0:\n",
        "      if year %400 == 0:\n",
        "        print(f'{year}年是閏年')\n",
        "      else:\n",
        "        print(f'{year}年是平年')\n",
        "    else:\n",
        "      print(f'{year}年是閏年')\n",
        "  else:\n",
        "    print(f'{year}年是平年')"
      ],
      "metadata": {
        "colab": {
          "base_uri": "https://localhost:8080/"
        },
        "id": "mP0gDAHShLI8",
        "outputId": "c80a3380-f437-4cee-8dca-b3eaac75b479"
      },
      "execution_count": 19,
      "outputs": [
        {
          "output_type": "stream",
          "name": "stdout",
          "text": [
            "請輸入年份1996\n",
            "1996年是閏年\n"
          ]
        }
      ]
    }
  ]
}