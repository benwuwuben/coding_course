{
  "nbformat": 4,
  "nbformat_minor": 0,
  "metadata": {
    "colab": {
      "provenance": [],
      "authorship_tag": "ABX9TyOTyw6IZl4ITrBWkYBn2+ZK",
      "include_colab_link": true
    },
    "kernelspec": {
      "name": "python3",
      "display_name": "Python 3"
    },
    "language_info": {
      "name": "python"
    }
  },
  "cells": [
    {
      "cell_type": "markdown",
      "metadata": {
        "id": "view-in-github",
        "colab_type": "text"
      },
      "source": [
        "<a href=\"https://colab.research.google.com/github/benwuwuben/coding_course/blob/main/20240408/B1202019_exercise4.ipynb\" target=\"_parent\"><img src=\"https://colab.research.google.com/assets/colab-badge.svg\" alt=\"Open In Colab\"/></a>"
      ]
    },
    {
      "cell_type": "code",
      "source": [
        "height = float(input('請輸入身高(公分):'))\n",
        "weight = float(input('請輸入體重(公斤):'))\n",
        "BMI = weight/(height/100)**2\n",
        "print(f'BMI:{BMI}')\n",
        "if BMI < 18.5:\n",
        "  ans = 'too thin'\n",
        "elif BMI < 24 and BMI >= 18.5:\n",
        "  ans = 'moderate'\n",
        "elif BMI >= 24 and BMI < 27:\n",
        "  ans = 'too fat'\n",
        "else:\n",
        "  ans = 'obesity'\n",
        "print(f'體位:{ans}')\n"
      ],
      "metadata": {
        "colab": {
          "base_uri": "https://localhost:8080/"
        },
        "id": "vBHrWymSeIxp",
        "outputId": "e5849241-28eb-4160-e5fb-b0e3f269218f"
      },
      "execution_count": 6,
      "outputs": [
        {
          "output_type": "stream",
          "name": "stdout",
          "text": [
            "請輸入身高(公分)180\n",
            "請輸入體重(公斤)70\n",
            "BMI:21.604938271604937\n",
            "體位:moderate\n"
          ]
        }
      ]
    },
    {
      "cell_type": "code",
      "source": [
        "num1 = int(input('請輸入第一個數字:'))\n",
        "calcul = input('請輸入運算符號(+,-,*,/):')\n",
        "num2 = int(input('請輸入第二個數字:'))\n",
        "if calcul == '+':\n",
        "  ans = num1 + num2\n",
        "elif calcul == '-':\n",
        "  ans = num1 - num2\n",
        "elif calcul == '*':\n",
        "  ans = num1 * num2\n",
        "elif calcul == '/':\n",
        "  ans = num1 / num2\n",
        "print(float(ans))"
      ],
      "metadata": {
        "colab": {
          "base_uri": "https://localhost:8080/"
        },
        "id": "8e0pHNR8iDCo",
        "outputId": "0f6c5053-1ce1-447f-8c60-c233721384b0"
      },
      "execution_count": 9,
      "outputs": [
        {
          "output_type": "stream",
          "name": "stdout",
          "text": [
            "請輸入第一個數字:2\n",
            "請輸入運算符號(+,-,*,/):+\n",
            "請輸入第二個數字:3\n",
            "5.0\n"
          ]
        }
      ]
    }
  ]
}