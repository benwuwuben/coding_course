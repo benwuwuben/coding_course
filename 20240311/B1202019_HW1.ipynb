{
  "nbformat": 4,
  "nbformat_minor": 0,
  "metadata": {
    "colab": {
      "provenance": [],
      "authorship_tag": "ABX9TyOZcRQMsT0520J1NrMxSvwu",
      "include_colab_link": true
    },
    "kernelspec": {
      "name": "python3",
      "display_name": "Python 3"
    },
    "language_info": {
      "name": "python"
    }
  },
  "cells": [
    {
      "cell_type": "markdown",
      "metadata": {
        "id": "view-in-github",
        "colab_type": "text"
      },
      "source": [
        "<a href=\"https://colab.research.google.com/github/benwuwuben/coding_course/blob/main/20240311/20240311_homework.ipynb\" target=\"_parent\"><img src=\"https://colab.research.google.com/assets/colab-badge.svg\" alt=\"Open In Colab\"/></a>"
      ]
    },
    {
      "cell_type": "code",
      "execution_count": null,
      "metadata": {
        "id": "JxIeKJYilKrn"
      },
      "outputs": [],
      "source": [
        "print(\"I'm a student\")"
      ]
    },
    {
      "cell_type": "code",
      "source": [
        "import math\n",
        "A = input(\"please input the (x1,y1) of the A: (ex:3,5)\")\n",
        "B = input(\"please input the (x1,y1) of the B: (ex:3,5)\")\n",
        "x1 = float(A.split(',')[0])\n",
        "y1 = float(A.split(',')[1])\n",
        "x2 = float(B.split(',')[0])\n",
        "y2 = float(B.split(',')[1])\n",
        "distance = math.sqrt((x1-x2)**2+(y1-y2)**2)\n",
        "distance"
      ],
      "metadata": {
        "id": "W0tuWXGelS-E"
      },
      "execution_count": null,
      "outputs": []
    },
    {
      "cell_type": "code",
      "source": [
        "height = int(input('please input your height(cm):'))\n",
        "weight = int(input('please input your weight(kg):'))\n",
        "height /= 100\n",
        "BMI = weight/height**2\n",
        "BMI"
      ],
      "metadata": {
        "id": "4SDIjD9WmMKE"
      },
      "execution_count": null,
      "outputs": []
    }
  ]
}
