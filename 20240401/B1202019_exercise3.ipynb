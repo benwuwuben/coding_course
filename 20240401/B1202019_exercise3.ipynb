{
  "nbformat": 4,
  "nbformat_minor": 0,
  "metadata": {
    "colab": {
      "provenance": [],
      "authorship_tag": "ABX9TyN94S+D7m/2ZEIdz+GDD+AA",
      "include_colab_link": true
    },
    "kernelspec": {
      "name": "python3",
      "display_name": "Python 3"
    },
    "language_info": {
      "name": "python"
    }
  },
  "cells": [
    {
      "cell_type": "markdown",
      "metadata": {
        "id": "view-in-github",
        "colab_type": "text"
      },
      "source": [
        "<a href=\"https://colab.research.google.com/github/benwuwuben/coding_course/blob/main/20240401/B1202019_exercise3.ipynb\" target=\"_parent\"><img src=\"https://colab.research.google.com/assets/colab-badge.svg\" alt=\"Open In Colab\"/></a>"
      ]
    },
    {
      "cell_type": "code",
      "source": [
        "import copy\n",
        "dic1 = {'姓名':'賴宏瑋','性別':'男','作業分數':[95,100,90]}\n",
        "dic2 = {'學號':'M1129020'}\n",
        "dic3 = dict(dic1,**dic2)\n",
        "dic4 = copy.deepcopy(dic3)\n",
        "dic3['作業分數'][1] = 80\n",
        "dic4['姓名'] = '許珈綺'\n",
        "dic4['性別'] = '女'\n",
        "dic4['學號'] = 'M1229001'\n",
        "print(dic4)\n",
        "score = dic3.pop('作業分數')\n",
        "count = 0\n",
        "for i in score:\n",
        "  count = count + i\n",
        "print(count/len(score))\n",
        "print(dic3)\n",
        "score = dic4.pop('作業分數')\n",
        "\n",
        "count = 0\n",
        "for i in score:\n",
        "  count = count + i\n",
        "print(count/len(score))\n",
        "print(dic4)"
      ],
      "metadata": {
        "colab": {
          "base_uri": "https://localhost:8080/"
        },
        "id": "vBHrWymSeIxp",
        "outputId": "cca47dea-ecc3-4fc3-af7d-746c49183e84"
      },
      "execution_count": 28,
      "outputs": [
        {
          "output_type": "stream",
          "name": "stdout",
          "text": [
            "{'姓名': '許珈綺', '性別': '女', '作業分數': [95, 100, 90], '學號': 'M1229001'}\n",
            "88.33333333333333\n",
            "{'姓名': '賴宏瑋', '性別': '男', '學號': 'M1129020'}\n",
            "95.0\n",
            "{'姓名': '許珈綺', '性別': '女', '學號': 'M1229001'}\n"
          ]
        }
      ]
    },
    {
      "cell_type": "code",
      "source": [
        "a = [100,50,45,60,90,95,80,50]\n",
        "a.insert(0,88)\n",
        "a[2:5] = [50,70]\n",
        "a.remove(50)\n",
        "first = a.pop(0)\n",
        "last = a.pop(-1)\n",
        "print(first+last)\n"
      ],
      "metadata": {
        "colab": {
          "base_uri": "https://localhost:8080/"
        },
        "id": "8e0pHNR8iDCo",
        "outputId": "07ad111f-5834-49ec-b5fe-6a23b93b71fd"
      },
      "execution_count": 36,
      "outputs": [
        {
          "output_type": "stream",
          "name": "stdout",
          "text": [
            "138\n"
          ]
        }
      ]
    },
    {
      "cell_type": "code",
      "source": [
        "a = 347 / 3\n",
        "b = 347 % 3\n",
        "print(a**b)"
      ],
      "metadata": {
        "colab": {
          "base_uri": "https://localhost:8080/"
        },
        "id": "yX6OVXGbeB_e",
        "outputId": "ce6f5a9f-e8e4-49a5-af81-952397f79e37"
      },
      "execution_count": 1,
      "outputs": [
        {
          "output_type": "stream",
          "name": "stdout",
          "text": [
            "13378.77777777778\n"
          ]
        }
      ]
    }
  ]
}