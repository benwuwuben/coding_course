{
  "nbformat": 4,
  "nbformat_minor": 0,
  "metadata": {
    "colab": {
      "provenance": [],
      "authorship_tag": "ABX9TyNjufNJOXx0aOFTeLS5eoto",
      "include_colab_link": true
    },
    "kernelspec": {
      "name": "python3",
      "display_name": "Python 3"
    },
    "language_info": {
      "name": "python"
    }
  },
  "cells": [
    {
      "cell_type": "markdown",
      "metadata": {
        "id": "view-in-github",
        "colab_type": "text"
      },
      "source": [
        "<a href=\"https://colab.research.google.com/github/benwuwuben/coding_course/blob/main/20240325/B1202019_exercise2.ipynb\" target=\"_parent\"><img src=\"https://colab.research.google.com/assets/colab-badge.svg\" alt=\"Open In Colab\"/></a>"
      ]
    },
    {
      "cell_type": "code",
      "source": [
        "infor = {'姓名':'賴宏瑋','性別':'男','作業分數':[80,95,100,90]}\n",
        "infor.setdefault('學號','M1129020')\n",
        "infor['作業分數'][1]=100\n",
        "del infor['作業分數'][0]\n",
        "print(infor)\n",
        "count = 0\n",
        "for i in range(0,len(infor['作業分數'])):\n",
        "  count = count + infor['作業分數'][i]\n",
        "average_score  = count/len(infor['作業分數'])\n",
        "print(f'average score = {average_score}')\n"
      ],
      "metadata": {
        "colab": {
          "base_uri": "https://localhost:8080/"
        },
        "id": "vBHrWymSeIxp",
        "outputId": "20ae633f-2ce4-46ee-c3e5-5b586745877f"
      },
      "execution_count": 30,
      "outputs": [
        {
          "output_type": "stream",
          "name": "stdout",
          "text": [
            "{'姓名': '賴宏瑋', '姓別': '男', '作業分數': [100, 100, 90], '學號': 'M1129020'}\n",
            "average score = 96.66666666666667\n"
          ]
        }
      ]
    }
  ]
}