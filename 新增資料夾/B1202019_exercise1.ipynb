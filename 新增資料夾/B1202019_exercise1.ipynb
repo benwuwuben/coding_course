{
  "nbformat": 4,
  "nbformat_minor": 0,
  "metadata": {
    "colab": {
      "provenance": []
    },
    "kernelspec": {
      "name": "python3",
      "display_name": "Python 3"
    },
    "language_info": {
      "name": "python"
    }
  },
  "cells": [
    {
      "cell_type": "code",
      "execution_count": 25,
      "metadata": {
        "colab": {
          "base_uri": "https://localhost:8080/"
        },
        "id": "mhPm0yMVa5LY",
        "outputId": "b37192f1-6d24-47c7-bf8a-ba5cd880b2d7"
      },
      "outputs": [
        {
          "output_type": "stream",
          "name": "stdout",
          "text": [
            "長庚大學\n",
            "醫學系\n",
            "吳建鋒\n"
          ]
        }
      ],
      "source": [
        "print('長庚大學\\n醫學系\\n吳建鋒')"
      ]
    },
    {
      "cell_type": "code",
      "source": [
        "a = 3\n",
        "b = 5\n",
        "a**b"
      ],
      "metadata": {
        "colab": {
          "base_uri": "https://localhost:8080/"
        },
        "id": "mP0gDAHShLI8",
        "outputId": "ef9d9d85-b5d6-4ec7-bb70-567117d4b2ff"
      },
      "execution_count": 20,
      "outputs": [
        {
          "output_type": "execute_result",
          "data": {
            "text/plain": [
              "243"
            ]
          },
          "metadata": {},
          "execution_count": 20
        }
      ]
    },
    {
      "cell_type": "code",
      "source": [
        "a = 3\n",
        "b = 5\n",
        "a /= b\n",
        "a"
      ],
      "metadata": {
        "id": "pk9iy68IhoVT",
        "colab": {
          "base_uri": "https://localhost:8080/"
        },
        "outputId": "d948870d-a94c-4241-d127-3485afd9ef2b"
      },
      "execution_count": 29,
      "outputs": [
        {
          "output_type": "execute_result",
          "data": {
            "text/plain": [
              "0.6"
            ]
          },
          "metadata": {},
          "execution_count": 29
        }
      ]
    }
  ]
}