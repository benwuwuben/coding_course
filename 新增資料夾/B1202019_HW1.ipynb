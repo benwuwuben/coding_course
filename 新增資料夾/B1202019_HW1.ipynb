{
  "nbformat": 4,
  "nbformat_minor": 0,
  "metadata": {
    "colab": {
      "provenance": []
    },
    "kernelspec": {
      "name": "python3",
      "display_name": "Python 3"
    },
    "language_info": {
      "name": "python"
    }
  },
  "cells": [
    {
      "cell_type": "code",
      "execution_count": null,
      "metadata": {
        "colab": {
          "base_uri": "https://localhost:8080/"
        },
        "id": "JxIeKJYilKrn",
        "outputId": "445b24c7-9bd9-4bf5-ed0b-8f26c3a5e0a6"
      },
      "outputs": [
        {
          "output_type": "stream",
          "name": "stdout",
          "text": [
            "I'm a student\n"
          ]
        }
      ],
      "source": [
        "print(\"I'm a student\")"
      ]
    },
    {
      "cell_type": "code",
      "source": [
        "import math\n",
        "A = input(\"please input the (x1,y1) of the A: (ex:3,5)\")\n",
        "B = input(\"please input the (x1,y1) of the B: (ex:3,5)\")\n",
        "x1 = int(A.split(',')[0])\n",
        "y1 = int(A.split(',')[1])\n",
        "x2 = int(B.split(',')[0])\n",
        "y2 = int(B.split(',')[1])\n",
        "distance = math.sqrt((x1-x2)**2+(y1-y2)**2)\n",
        "distance"
      ],
      "metadata": {
        "colab": {
          "base_uri": "https://localhost:8080/"
        },
        "id": "W0tuWXGelS-E",
        "outputId": "1e9d0cdc-3bd8-49f3-ff5c-e55de10777a3"
      },
      "execution_count": 14,
      "outputs": [
        {
          "name": "stdout",
          "output_type": "stream",
          "text": [
            "please input the (x1,y1) of the A: (ex:3,5)3,5\n",
            "please input the (x1,y1) of the B: (ex:3,5)4,6\n"
          ]
        },
        {
          "output_type": "execute_result",
          "data": {
            "text/plain": [
              "1.4142135623730951"
            ]
          },
          "metadata": {},
          "execution_count": 14
        }
      ]
    },
    {
      "cell_type": "code",
      "source": [
        "height = int(input('please input your height(cm):'))\n",
        "weight = int(input('please input your weight(kg):'))\n",
        "height /= 100\n",
        "BMI = weight/height**2\n",
        "BMI"
      ],
      "metadata": {
        "id": "4SDIjD9WmMKE",
        "outputId": "9cd599a7-0414-439b-a815-ba5bd689ed28",
        "colab": {
          "base_uri": "https://localhost:8080/"
        }
      },
      "execution_count": 15,
      "outputs": [
        {
          "name": "stdout",
          "output_type": "stream",
          "text": [
            "please input your height(cm):178\n",
            "please input your weight(kg):70\n"
          ]
        },
        {
          "output_type": "execute_result",
          "data": {
            "text/plain": [
              "22.093170054286073"
            ]
          },
          "metadata": {},
          "execution_count": 15
        }
      ]
    }
  ]
}